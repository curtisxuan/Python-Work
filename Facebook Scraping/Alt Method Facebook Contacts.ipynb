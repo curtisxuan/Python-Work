{
 "cells": [
  {
   "cell_type": "code",
   "execution_count": null,
   "metadata": {
    "collapsed": true
   },
   "outputs": [],
   "source": [
    "from bs4 import BeautifulSoup\n",
    "import requests\n",
    "\n",
    "cook = {\"Cookie\":\"sb=-BUHV_-pVnDlrniCLtb7b-2-; lu=Ti7BmHUjd6_p18YKax399NHA; datr=wtUDVYwKghI3WyssNkgjlNMR; c_user=1529654115; xs=17%3ABkcm0CL7aVgaUQ%3A2%3A1486927798%3A20236%3A3011; fr=0dXNlFCod6zKFekq9.AWWaI-LZlSWs0mTBaEYTDePme1Q.BYoLew.ha.Flb.0.0.BZXz52.AWW_8u9R; presence=EDvF3EtimeF1499414982EuserFA21529654115A2EstateFDt3F_5bDiFA2user_3a1B00517321381A2EoF1EfF5CAcDiFA2user_3a1B03709472474A2EoF2EfF1C_5dElm3FA2user_3a1B00517321381A2Eutc3F1499411630462G499414982965CEchFDp_5f1529654115F69CC; act=1499414998661%2F33\"}\n",
    "url='https://mbasic.facebook.com/Curtisxuan/friends?lst=1529654115%3A1529654115%3A1499414804&startindex=0'\n",
    "html = requests.get(url,cookies=cook).content\n",
    "\n",
    "k = BeautifulSoup(html,'lxml')\n",
    "F=open(\"Fb_Friends.txt\",\"a\")"
   ]
  },
  {
   "cell_type": "code",
   "execution_count": null,
   "metadata": {
    "collapsed": true
   },
   "outputs": [],
   "source": [
    "print \"Curtis's Friends: \\n\"\n",
    "lista=[]\n",
    "if len(k.find_all(\"div\", id =\"m_more_friends\"))==1:\n",
    "    count = 1\n",
    "else:\n",
    "    count = 0\n",
    "while count>=0:\n",
    "    l=k.find_all(\"td\", class_=\"w t\")\n",
    "    for i in l:\n",
    "        try:\n",
    "            tuplea = (\"Curtis Xuan\", \"https://mbasic.facebook.com/Curtisxuan?fref=fr_tab\" ,i.a.string, \"https://mbasic.facebook.com\"+ i.a[\"href\"])\n",
    "            lista.append(tuplea)\n",
    "            print i.a.string\n",
    "            F.write(\"Curtis Xuan\\t\" + \"https://mbasic.facebook.com/Curtisxuan?fref=fr_tab\\t\" + i.a.string + \"\\t\" + \"https://mbasic.facebook.com\"+ i.a[\"href\"]+\"\\n\")\n",
    "        except:\n",
    "            print \"**************\" + i.a.string + \"**************\"\n",
    "\n",
    "    getFriends = k.find_all(\"div\", id =\"m_more_friends\")\n",
    "    if count==1:\n",
    "        url = \"https://mbasic.facebook.com/\"+getFriends[0].a[\"href\"]\n",
    "        text = requests.get(url,cookies=cook).content\n",
    "        k = BeautifulSoup(text,'lxml')\n",
    "    if len(k.find_all(\"div\", id =\"m_more_friends\"))==1:\n",
    "        count+=1\n",
    "    count-=1\n",
    "    \n",
    "F.close()"
   ]
  },
  {
   "cell_type": "code",
   "execution_count": null,
   "metadata": {
    "collapsed": true
   },
   "outputs": [],
   "source": [
    "friendCount = len(lista)\n",
    "for s in range(friendCount):\n",
    "    F=open(\"Fb_Friends.txt\",\"a\")\n",
    "    friendUrl = lista[s][3]\n",
    "    html = requests.get(friendUrl,cookies=cook).content\n",
    "    k = BeautifulSoup(html,'lxml')\n",
    "    import re\n",
    "    pattern = re.compile(\"Friends\")\n",
    "    element = k.find_all('a',text=pattern)\n",
    "    friendTab = \"https://mbasic.facebook.com\"+element[1]['href']\n",
    "    html = requests.get(friendTab,cookies=cook).content\n",
    "    k = BeautifulSoup(html,'lxml')\n",
    "    print lista[s][2]+\"'s Friends: \\n\"\n",
    "    if len(k.find_all(\"div\", id =\"m_more_friends\"))==1:\n",
    "        count = 1\n",
    "    else:\n",
    "        count = 0\n",
    "    while count>=0:\n",
    "        l=k.find_all(\"td\", class_=\"w t\")\n",
    "        for i in l:\n",
    "            try:\n",
    "                tuplea = (lista[s][2], lista[s][3],i.a.string, \"https://mbasic.facebook.com/\"+ i.a[\"href\"])\n",
    "                lista.append(tuplea)\n",
    "                print i.a.string\n",
    "                F.write(lista[s][2] + \"\\t\" + lista[s][3] + \"\\t\" + i.a.string + \"\\t\" + \"https://mbasic.facebook.com\"+ i.a[\"href\"]+\"\\n\")\n",
    "            except:\n",
    "                print \"**************\" + i.a.string + \"**************\"\n",
    "        getFriends = k.find_all(\"div\", id =\"m_more_friends\")\n",
    "        if count==1:\n",
    "            url = \"https://mbasic.facebook.com/\"+getFriends[0].a[\"href\"]\n",
    "            text = requests.get(url,cookies=cook).content\n",
    "            k = BeautifulSoup(text,'lxml')\n",
    "        if len(k.find_all(\"div\", id =\"m_more_friends\"))==1:\n",
    "            count+=1\n",
    "        count-=1\n",
    "    print \"\\n\\n\"\n",
    "    F.close()"
   ]
  }
 ],
 "metadata": {
  "kernelspec": {
   "display_name": "Python 3",
   "language": "python",
   "name": "python3"
  },
  "language_info": {
   "codemirror_mode": {
    "name": "ipython",
    "version": 3
   },
   "file_extension": ".py",
   "mimetype": "text/x-python",
   "name": "python",
   "nbconvert_exporter": "python",
   "pygments_lexer": "ipython3",
   "version": "3.6.3"
  }
 },
 "nbformat": 4,
 "nbformat_minor": 1
}
